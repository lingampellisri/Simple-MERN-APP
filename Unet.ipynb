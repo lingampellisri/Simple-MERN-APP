{
 "cells": [
  {
   "cell_type": "code",
   "execution_count": null,
   "id": "5350b8fc-2fbb-4f14-a232-bb3055c89e12",
   "metadata": {},
   "outputs": [],
   "source": [
    "import tensorflow as tf\n"
   ]
  },
  {
   "cell_type": "code",
   "execution_count": null,
   "id": "c48409ed-f804-4ef1-8449-fdb3b025bc62",
   "metadata": {},
   "outputs": [],
   "source": [
    "image_heigth=128\n",
    "image_width=128\n",
    "number_of_channels=3"
   ]
  },
  {
   "cell_type": "code",
   "execution_count": null,
   "id": "b3b57f87-b77c-4402-a5bc-a6eb3bce932b",
   "metadata": {},
   "outputs": [],
   "source": [
    "inputs=tf.keras.layers.Input((image_heigth,image_width,number_of_channels))\n",
    "c1=tf.keras.layers.Con2D(16,(3,3)activation=\"relu\",kernal_intializer=\"he_normal\")"
   ]
  }
 ],
 "metadata": {
  "kernelspec": {
   "display_name": "Python 3 (ipykernel)",
   "language": "python",
   "name": "python3"
  },
  "language_info": {
   "codemirror_mode": {
    "name": "ipython",
    "version": 3
   },
   "file_extension": ".py",
   "mimetype": "text/x-python",
   "name": "python",
   "nbconvert_exporter": "python",
   "pygments_lexer": "ipython3",
   "version": "3.10.8"
  }
 },
 "nbformat": 4,
 "nbformat_minor": 5
}
